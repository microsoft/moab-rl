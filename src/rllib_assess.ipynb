{
 "cells": [
  {
   "cell_type": "code",
   "execution_count": null,
   "metadata": {},
   "outputs": [],
   "source": [
    "import math\n",
    "import onnxruntime\n",
    "import pandas as pd\n",
    "from sim.sim_env import MoabSim\n",
    "import PIL\n",
    "import matplotlib.pyplot as plt"
   ]
  },
  {
   "cell_type": "code",
   "execution_count": null,
   "metadata": {},
   "outputs": [],
   "source": [
    "# Launch an onnxruntime session to run inference on the policy\n",
    "session = onnxruntime.InferenceSession(\"outputs/model.onnx\")"
   ]
  },
  {
   "cell_type": "code",
   "execution_count": null,
   "metadata": {},
   "outputs": [],
   "source": [
    "# Initialize the simulation environment\n",
    "sim = MoabSim(env_config=None)\n",
    "\n",
    "# Define the low and high bounds of your action space.\n",
    "low = sim.action_space.low\n",
    "high = sim.action_space.high"
   ]
  },
  {
   "cell_type": "code",
   "execution_count": null,
   "metadata": {},
   "outputs": [],
   "source": [
    "# Define a constant for the minimum log value to avoid numerical issues\n",
    "MIN_LOG_VALUE = -1e7\n",
    "\n",
    "# Define a function for converting logits to actions for a SquashedGaussian distribution\n",
    "# NOTE: This function is specific to the PPO algorithm used during training.\n",
    "#       If you use a different algorithm, you might need to modify this function.\n",
    "def logits_to_actions(logits, low=-1.0, high=1.0):\n",
    "    # Split the logits into mean and log_std\n",
    "    means, log_stds = logits[::2], logits[1::2]\n",
    "    actions = []\n",
    "    i = 0\n",
    "    for mean, log_std in zip(means, log_stds):\n",
    "        # Clip the log_std to a reasonable range\n",
    "        log_std = max(min(log_std, -MIN_LOG_VALUE), MIN_LOG_VALUE)\n",
    "        # Compute the std from the log_std\n",
    "        std = math.exp(log_std)\n",
    "        # Create a normal distribution with the mean and std\n",
    "        normal_dist = [mean, std]\n",
    "        # Sample a value from the normal distribution\n",
    "        normal_sample = mean # use the mean for deterministic output\n",
    "        # Apply a tanh function to the normal sample\n",
    "        tanh_sample = math.tanh(normal_sample)\n",
    "        # Scale the tanh sample by the low and high bounds of the action space\n",
    "        action = low[i] + (high[i] - low[i]) * (tanh_sample + 1) / 2\n",
    "        actions.append(action)\n",
    "        i += 1\n",
    "    # Return the list of actions\n",
    "    return actions\n",
    "\n"
   ]
  },
  {
   "cell_type": "code",
   "execution_count": null,
   "metadata": {},
   "outputs": [],
   "source": [
    "# Episodes\n",
    "n_episodes = 30\n",
    "logs = []\n",
    "for episode in range(n_episodes):\n",
    "    # Resets the environment\n",
    "    sim.reset()\n",
    "    # Runs the simulation while the episode is not terminated or truncated\n",
    "    terminated = False\n",
    "    truncated = False\n",
    "    step = 0\n",
    "    while not terminated and not truncated:\n",
    "        # Run inference on the observation and get the logits.\n",
    "        logits = session.run(None, {\"obs\": [sim._get_obs()], \"state_ins\": [None]})[0][0]\n",
    "        actions = logits_to_actions(logits, low=low, high=high)\n",
    "        # if step<5:\n",
    "        #     action = np.random.uniform(-1, 1, 2)\n",
    "        state, reward, terminated, truncated, _ = sim.step(actions)\n",
    "        step += 1\n",
    "        # Logs\n",
    "        log = {}\n",
    "        log[\"episode\"] = episode\n",
    "        log[\"step\"] = step\n",
    "        log[\"ball_x\"] = state[0]\n",
    "        log[\"ball_y\"] = state[1]\n",
    "        log[\"ball_vel_x\"] = state[2]\n",
    "        log[\"ball_vel_y\"] = state[3]\n",
    "        log[\"input_pitch\"] = actions[0]\n",
    "        log[\"input_roll\"] = actions[1]\n",
    "        log[\"reward\"] = reward\n",
    "        log[\"terminated\"] = terminated\n",
    "        log[\"truncated\"] = truncated\n",
    "        logs.append(log)\n",
    "\n",
    "logs_df = pd.DataFrame(logs)"
   ]
  },
  {
   "cell_type": "code",
   "execution_count": null,
   "metadata": {},
   "outputs": [],
   "source": [
    "def generate_plot(episode_id, logs_df):\n",
    "    fig, ax = plt.subplots()\n",
    "    circle = plt.Circle((0, 0), 0.1125, color=\"lightgray\") # Create a circle object\n",
    "    ax.add_patch(circle) # Add the circle to the axis\n",
    "    ax.set_aspect(\"equal\") # Set the aspect ratio to be equal\n",
    "    ax.set_xlim(-0.15, 0.15) # Set the x-axis limits\n",
    "    ax.set_ylim(-0.15, 0.15) # Set the y-axis limits\n",
    "\n",
    "    # Plot the trajectory using step, ball_x and ball_y from logs_df\n",
    "    scatter = plt.scatter(logs_df.loc[logs_df[\"episode\"] == episode_id, \"ball_x\"],\n",
    "                          logs_df.loc[logs_df[\"episode\"] == episode_id, \"ball_y\"],\n",
    "                          c=logs_df.loc[logs_df[\"episode\"] == episode_id, \"reward\"],\n",
    "                          cmap=\"plasma\") \n",
    "    cbar = fig.colorbar(scatter) # Add a colorbar to the plot\n",
    "    cbar.ax.set_title(\"Reward\", fontsize=10) # Set the label of the colorbar\n",
    "    plt.clim(0, 1)\n",
    "    # Show the plot\n",
    "    plt.title(f\"Moab Ball Trajectory #{episode_id+1}\") # Set the title of the plot\n",
    "    plt.xlabel(\"ball_x\") # Set the x-axis label\n",
    "    plt.ylabel(\"ball_y\") # Set the y-axis label\n",
    "    plt.close(fig)\n",
    "    fig.canvas.draw()\n",
    "    img = PIL.Image.frombytes('RGB', fig.canvas.get_width_height(),fig.canvas.tostring_rgb())\n",
    "    return img\n",
    "\n",
    "imgs = [generate_plot(episode_id, logs_df) for episode_id in range(n_episodes)]"
   ]
  },
  {
   "cell_type": "code",
   "execution_count": null,
   "metadata": {},
   "outputs": [],
   "source": [
    "_, axs = plt.subplots(10, 3, figsize=(18, 50))\n",
    "axs = axs.flatten()\n",
    "for img, ax in zip(imgs, axs):\n",
    "    ax.imshow(img)\n",
    "    ax.axis(\"off\")\n",
    "plt.subplots_adjust(wspace=0, hspace=0)\n",
    "plt.show()"
   ]
  }
 ],
 "metadata": {
  "kernelspec": {
   "display_name": "Python 3",
   "language": "python",
   "name": "python3"
  },
  "language_info": {
   "codemirror_mode": {
    "name": "ipython",
    "version": 3
   },
   "file_extension": ".py",
   "mimetype": "text/x-python",
   "name": "python",
   "nbconvert_exporter": "python",
   "pygments_lexer": "ipython3",
   "version": "3.10.11"
  }
 },
 "nbformat": 4,
 "nbformat_minor": 2
}
